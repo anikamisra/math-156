{
  "nbformat": 4,
  "nbformat_minor": 0,
  "metadata": {
    "colab": {
      "provenance": []
    },
    "kernelspec": {
      "name": "python3",
      "display_name": "Python 3"
    },
    "language_info": {
      "name": "python"
    }
  },
  "cells": [
    {
      "cell_type": "markdown",
      "source": [
        "# Write-up\n",
        "\n",
        "This Python Notebook goes over Problem 4 in Homework 2 of Math 156.\n",
        "\n",
        "## Part A):\n",
        "Here, I download the **Red wine dataset** csv file from the [UCI Wine Quality Dataset](https://archive.ics.uci.edu/dataset/186/wine+quality). Then, I preprocess the data by reading it in as a DataFrame with the Pandas Python package, and using a semicolon separator when I do. I also import the random package as it will be used later.\n",
        "\n",
        "**Note**: If you are running this notebook in Google Colab, make sure to connect to a runtime, and then upload the above dataset in the files section on the lefthand bar before running any of the code. Edit the file path as necessary.\n",
        "\n",
        "## Part B):\n",
        "\n",
        "Here, I use sklearn to split the dataset into training, testing, and validation. First, I import the necessary packages. Then, I create an X dataset by dropping the target variable, \"quality\" from the dataframe, and I create a Y dataset with only the \"quality\" column. I convert both of these to numpy as we will be using a lot of matrix calculations in this homework assignment. Then, I scale the data using the normalization scaler from sklearn. **I obtain the mean and variance from the training dataset first** before I apply this mean and variance to scale the validation and testing sets. Note that I do not scale the y-column as that is not really necessary for feature pre-processing.\n",
        "\n",
        "To split the data into testing, training, and validation sets, I determine which percentages I want each to be (20%, 70%, and 10% of the total data, respectively) and then I apply sklearn's train_test_split twice: once to split the training and testing data, and then one more time to split the training data into training and validation.\n",
        "\n",
        "## Part C):\n",
        "Here, I write a simple function that calculates the least squares solution for a linear regression problem. The function takes in a parameter called \"learn_bias\", which is set to True by default. When \"learn_bias\" is set to True, then the function adds a column of 1s to the X matrix to account for the bias term. Then, I fit the training dataset using this function and obtain w, the weights of the function. I also obtain the predicted y-values in the training dataset for y, which will be used in part D) for the graphing.\n",
        "\n",
        "## Part D):\n",
        "Here, I use matplotlib to plot the predicted y-values based on w computed in part c vs. the actual y-values. I clean up the plot a little by providing consistent axes limits, and I also provide an interpretation.\n",
        "\n",
        "## Part E):\n",
        "Here, I wrote a small function that calculates the RMSE between two 1d numpy vectors. I used it to report on the RMSE between the predicted and actual values in the y-training dataset and y-testing datasets. With my solution I obtained a value of around 0.6-0.7 in each one.\n",
        "\n",
        "## Part F):\n",
        "Here I implemented the LMS algorithm, part of SGD. I did sampling with replacement by shuffling all the rows before each new epoch. Every time I updated w, I did use all the rows but it was still randomized. I put the parameters to play around with at the very top. I used parameters of stepsize = 0.001, and iterations =\n",
        "\n",
        "## Part G):\n",
        "Finally, I used the same RMS error function from part e) to report on the RMSE for the testing and training on the LMS algorithm. The results were about the same as Part E).\n"
      ],
      "metadata": {
        "id": "YDRZY7-nOjq2"
      }
    },
    {
      "cell_type": "markdown",
      "source": [
        "**A)** Download the csv file"
      ],
      "metadata": {
        "id": "P39XkkIAWwsL"
      }
    },
    {
      "cell_type": "code",
      "execution_count": null,
      "metadata": {
        "colab": {
          "base_uri": "https://localhost:8080/",
          "height": 241
        },
        "id": "XoTWLLAWT5qT",
        "outputId": "3311bc05-4858-4e4b-c381-a353026ec332"
      },
      "outputs": [
        {
          "output_type": "execute_result",
          "data": {
            "text/plain": [
              "   fixed acidity  volatile acidity  citric acid  residual sugar  chlorides  \\\n",
              "0            7.4              0.70         0.00             1.9      0.076   \n",
              "1            7.8              0.88         0.00             2.6      0.098   \n",
              "2            7.8              0.76         0.04             2.3      0.092   \n",
              "3           11.2              0.28         0.56             1.9      0.075   \n",
              "4            7.4              0.70         0.00             1.9      0.076   \n",
              "\n",
              "   free sulfur dioxide  total sulfur dioxide  density    pH  sulphates  \\\n",
              "0                 11.0                  34.0   0.9978  3.51       0.56   \n",
              "1                 25.0                  67.0   0.9968  3.20       0.68   \n",
              "2                 15.0                  54.0   0.9970  3.26       0.65   \n",
              "3                 17.0                  60.0   0.9980  3.16       0.58   \n",
              "4                 11.0                  34.0   0.9978  3.51       0.56   \n",
              "\n",
              "   alcohol  quality  \n",
              "0      9.4        5  \n",
              "1      9.8        5  \n",
              "2      9.8        5  \n",
              "3      9.8        6  \n",
              "4      9.4        5  "
            ],
            "text/html": [
              "\n",
              "  <div id=\"df-ed1d832a-ce59-4225-bba9-9855ff78b938\" class=\"colab-df-container\">\n",
              "    <div>\n",
              "<style scoped>\n",
              "    .dataframe tbody tr th:only-of-type {\n",
              "        vertical-align: middle;\n",
              "    }\n",
              "\n",
              "    .dataframe tbody tr th {\n",
              "        vertical-align: top;\n",
              "    }\n",
              "\n",
              "    .dataframe thead th {\n",
              "        text-align: right;\n",
              "    }\n",
              "</style>\n",
              "<table border=\"1\" class=\"dataframe\">\n",
              "  <thead>\n",
              "    <tr style=\"text-align: right;\">\n",
              "      <th></th>\n",
              "      <th>fixed acidity</th>\n",
              "      <th>volatile acidity</th>\n",
              "      <th>citric acid</th>\n",
              "      <th>residual sugar</th>\n",
              "      <th>chlorides</th>\n",
              "      <th>free sulfur dioxide</th>\n",
              "      <th>total sulfur dioxide</th>\n",
              "      <th>density</th>\n",
              "      <th>pH</th>\n",
              "      <th>sulphates</th>\n",
              "      <th>alcohol</th>\n",
              "      <th>quality</th>\n",
              "    </tr>\n",
              "  </thead>\n",
              "  <tbody>\n",
              "    <tr>\n",
              "      <th>0</th>\n",
              "      <td>7.4</td>\n",
              "      <td>0.70</td>\n",
              "      <td>0.00</td>\n",
              "      <td>1.9</td>\n",
              "      <td>0.076</td>\n",
              "      <td>11.0</td>\n",
              "      <td>34.0</td>\n",
              "      <td>0.9978</td>\n",
              "      <td>3.51</td>\n",
              "      <td>0.56</td>\n",
              "      <td>9.4</td>\n",
              "      <td>5</td>\n",
              "    </tr>\n",
              "    <tr>\n",
              "      <th>1</th>\n",
              "      <td>7.8</td>\n",
              "      <td>0.88</td>\n",
              "      <td>0.00</td>\n",
              "      <td>2.6</td>\n",
              "      <td>0.098</td>\n",
              "      <td>25.0</td>\n",
              "      <td>67.0</td>\n",
              "      <td>0.9968</td>\n",
              "      <td>3.20</td>\n",
              "      <td>0.68</td>\n",
              "      <td>9.8</td>\n",
              "      <td>5</td>\n",
              "    </tr>\n",
              "    <tr>\n",
              "      <th>2</th>\n",
              "      <td>7.8</td>\n",
              "      <td>0.76</td>\n",
              "      <td>0.04</td>\n",
              "      <td>2.3</td>\n",
              "      <td>0.092</td>\n",
              "      <td>15.0</td>\n",
              "      <td>54.0</td>\n",
              "      <td>0.9970</td>\n",
              "      <td>3.26</td>\n",
              "      <td>0.65</td>\n",
              "      <td>9.8</td>\n",
              "      <td>5</td>\n",
              "    </tr>\n",
              "    <tr>\n",
              "      <th>3</th>\n",
              "      <td>11.2</td>\n",
              "      <td>0.28</td>\n",
              "      <td>0.56</td>\n",
              "      <td>1.9</td>\n",
              "      <td>0.075</td>\n",
              "      <td>17.0</td>\n",
              "      <td>60.0</td>\n",
              "      <td>0.9980</td>\n",
              "      <td>3.16</td>\n",
              "      <td>0.58</td>\n",
              "      <td>9.8</td>\n",
              "      <td>6</td>\n",
              "    </tr>\n",
              "    <tr>\n",
              "      <th>4</th>\n",
              "      <td>7.4</td>\n",
              "      <td>0.70</td>\n",
              "      <td>0.00</td>\n",
              "      <td>1.9</td>\n",
              "      <td>0.076</td>\n",
              "      <td>11.0</td>\n",
              "      <td>34.0</td>\n",
              "      <td>0.9978</td>\n",
              "      <td>3.51</td>\n",
              "      <td>0.56</td>\n",
              "      <td>9.4</td>\n",
              "      <td>5</td>\n",
              "    </tr>\n",
              "  </tbody>\n",
              "</table>\n",
              "</div>\n",
              "    <div class=\"colab-df-buttons\">\n",
              "\n",
              "  <div class=\"colab-df-container\">\n",
              "    <button class=\"colab-df-convert\" onclick=\"convertToInteractive('df-ed1d832a-ce59-4225-bba9-9855ff78b938')\"\n",
              "            title=\"Convert this dataframe to an interactive table.\"\n",
              "            style=\"display:none;\">\n",
              "\n",
              "  <svg xmlns=\"http://www.w3.org/2000/svg\" height=\"24px\" viewBox=\"0 -960 960 960\">\n",
              "    <path d=\"M120-120v-720h720v720H120Zm60-500h600v-160H180v160Zm220 220h160v-160H400v160Zm0 220h160v-160H400v160ZM180-400h160v-160H180v160Zm440 0h160v-160H620v160ZM180-180h160v-160H180v160Zm440 0h160v-160H620v160Z\"/>\n",
              "  </svg>\n",
              "    </button>\n",
              "\n",
              "  <style>\n",
              "    .colab-df-container {\n",
              "      display:flex;\n",
              "      gap: 12px;\n",
              "    }\n",
              "\n",
              "    .colab-df-convert {\n",
              "      background-color: #E8F0FE;\n",
              "      border: none;\n",
              "      border-radius: 50%;\n",
              "      cursor: pointer;\n",
              "      display: none;\n",
              "      fill: #1967D2;\n",
              "      height: 32px;\n",
              "      padding: 0 0 0 0;\n",
              "      width: 32px;\n",
              "    }\n",
              "\n",
              "    .colab-df-convert:hover {\n",
              "      background-color: #E2EBFA;\n",
              "      box-shadow: 0px 1px 2px rgba(60, 64, 67, 0.3), 0px 1px 3px 1px rgba(60, 64, 67, 0.15);\n",
              "      fill: #174EA6;\n",
              "    }\n",
              "\n",
              "    .colab-df-buttons div {\n",
              "      margin-bottom: 4px;\n",
              "    }\n",
              "\n",
              "    [theme=dark] .colab-df-convert {\n",
              "      background-color: #3B4455;\n",
              "      fill: #D2E3FC;\n",
              "    }\n",
              "\n",
              "    [theme=dark] .colab-df-convert:hover {\n",
              "      background-color: #434B5C;\n",
              "      box-shadow: 0px 1px 3px 1px rgba(0, 0, 0, 0.15);\n",
              "      filter: drop-shadow(0px 1px 2px rgba(0, 0, 0, 0.3));\n",
              "      fill: #FFFFFF;\n",
              "    }\n",
              "  </style>\n",
              "\n",
              "    <script>\n",
              "      const buttonEl =\n",
              "        document.querySelector('#df-ed1d832a-ce59-4225-bba9-9855ff78b938 button.colab-df-convert');\n",
              "      buttonEl.style.display =\n",
              "        google.colab.kernel.accessAllowed ? 'block' : 'none';\n",
              "\n",
              "      async function convertToInteractive(key) {\n",
              "        const element = document.querySelector('#df-ed1d832a-ce59-4225-bba9-9855ff78b938');\n",
              "        const dataTable =\n",
              "          await google.colab.kernel.invokeFunction('convertToInteractive',\n",
              "                                                    [key], {});\n",
              "        if (!dataTable) return;\n",
              "\n",
              "        const docLinkHtml = 'Like what you see? Visit the ' +\n",
              "          '<a target=\"_blank\" href=https://colab.research.google.com/notebooks/data_table.ipynb>data table notebook</a>'\n",
              "          + ' to learn more about interactive tables.';\n",
              "        element.innerHTML = '';\n",
              "        dataTable['output_type'] = 'display_data';\n",
              "        await google.colab.output.renderOutput(dataTable, element);\n",
              "        const docLink = document.createElement('div');\n",
              "        docLink.innerHTML = docLinkHtml;\n",
              "        element.appendChild(docLink);\n",
              "      }\n",
              "    </script>\n",
              "  </div>\n",
              "\n",
              "\n",
              "<div id=\"df-c39ee9c3-ed89-482d-8ea3-47e9f6685af5\">\n",
              "  <button class=\"colab-df-quickchart\" onclick=\"quickchart('df-c39ee9c3-ed89-482d-8ea3-47e9f6685af5')\"\n",
              "            title=\"Suggest charts\"\n",
              "            style=\"display:none;\">\n",
              "\n",
              "<svg xmlns=\"http://www.w3.org/2000/svg\" height=\"24px\"viewBox=\"0 0 24 24\"\n",
              "     width=\"24px\">\n",
              "    <g>\n",
              "        <path d=\"M19 3H5c-1.1 0-2 .9-2 2v14c0 1.1.9 2 2 2h14c1.1 0 2-.9 2-2V5c0-1.1-.9-2-2-2zM9 17H7v-7h2v7zm4 0h-2V7h2v10zm4 0h-2v-4h2v4z\"/>\n",
              "    </g>\n",
              "</svg>\n",
              "  </button>\n",
              "\n",
              "<style>\n",
              "  .colab-df-quickchart {\n",
              "      --bg-color: #E8F0FE;\n",
              "      --fill-color: #1967D2;\n",
              "      --hover-bg-color: #E2EBFA;\n",
              "      --hover-fill-color: #174EA6;\n",
              "      --disabled-fill-color: #AAA;\n",
              "      --disabled-bg-color: #DDD;\n",
              "  }\n",
              "\n",
              "  [theme=dark] .colab-df-quickchart {\n",
              "      --bg-color: #3B4455;\n",
              "      --fill-color: #D2E3FC;\n",
              "      --hover-bg-color: #434B5C;\n",
              "      --hover-fill-color: #FFFFFF;\n",
              "      --disabled-bg-color: #3B4455;\n",
              "      --disabled-fill-color: #666;\n",
              "  }\n",
              "\n",
              "  .colab-df-quickchart {\n",
              "    background-color: var(--bg-color);\n",
              "    border: none;\n",
              "    border-radius: 50%;\n",
              "    cursor: pointer;\n",
              "    display: none;\n",
              "    fill: var(--fill-color);\n",
              "    height: 32px;\n",
              "    padding: 0;\n",
              "    width: 32px;\n",
              "  }\n",
              "\n",
              "  .colab-df-quickchart:hover {\n",
              "    background-color: var(--hover-bg-color);\n",
              "    box-shadow: 0 1px 2px rgba(60, 64, 67, 0.3), 0 1px 3px 1px rgba(60, 64, 67, 0.15);\n",
              "    fill: var(--button-hover-fill-color);\n",
              "  }\n",
              "\n",
              "  .colab-df-quickchart-complete:disabled,\n",
              "  .colab-df-quickchart-complete:disabled:hover {\n",
              "    background-color: var(--disabled-bg-color);\n",
              "    fill: var(--disabled-fill-color);\n",
              "    box-shadow: none;\n",
              "  }\n",
              "\n",
              "  .colab-df-spinner {\n",
              "    border: 2px solid var(--fill-color);\n",
              "    border-color: transparent;\n",
              "    border-bottom-color: var(--fill-color);\n",
              "    animation:\n",
              "      spin 1s steps(1) infinite;\n",
              "  }\n",
              "\n",
              "  @keyframes spin {\n",
              "    0% {\n",
              "      border-color: transparent;\n",
              "      border-bottom-color: var(--fill-color);\n",
              "      border-left-color: var(--fill-color);\n",
              "    }\n",
              "    20% {\n",
              "      border-color: transparent;\n",
              "      border-left-color: var(--fill-color);\n",
              "      border-top-color: var(--fill-color);\n",
              "    }\n",
              "    30% {\n",
              "      border-color: transparent;\n",
              "      border-left-color: var(--fill-color);\n",
              "      border-top-color: var(--fill-color);\n",
              "      border-right-color: var(--fill-color);\n",
              "    }\n",
              "    40% {\n",
              "      border-color: transparent;\n",
              "      border-right-color: var(--fill-color);\n",
              "      border-top-color: var(--fill-color);\n",
              "    }\n",
              "    60% {\n",
              "      border-color: transparent;\n",
              "      border-right-color: var(--fill-color);\n",
              "    }\n",
              "    80% {\n",
              "      border-color: transparent;\n",
              "      border-right-color: var(--fill-color);\n",
              "      border-bottom-color: var(--fill-color);\n",
              "    }\n",
              "    90% {\n",
              "      border-color: transparent;\n",
              "      border-bottom-color: var(--fill-color);\n",
              "    }\n",
              "  }\n",
              "</style>\n",
              "\n",
              "  <script>\n",
              "    async function quickchart(key) {\n",
              "      const quickchartButtonEl =\n",
              "        document.querySelector('#' + key + ' button');\n",
              "      quickchartButtonEl.disabled = true;  // To prevent multiple clicks.\n",
              "      quickchartButtonEl.classList.add('colab-df-spinner');\n",
              "      try {\n",
              "        const charts = await google.colab.kernel.invokeFunction(\n",
              "            'suggestCharts', [key], {});\n",
              "      } catch (error) {\n",
              "        console.error('Error during call to suggestCharts:', error);\n",
              "      }\n",
              "      quickchartButtonEl.classList.remove('colab-df-spinner');\n",
              "      quickchartButtonEl.classList.add('colab-df-quickchart-complete');\n",
              "    }\n",
              "    (() => {\n",
              "      let quickchartButtonEl =\n",
              "        document.querySelector('#df-c39ee9c3-ed89-482d-8ea3-47e9f6685af5 button');\n",
              "      quickchartButtonEl.style.display =\n",
              "        google.colab.kernel.accessAllowed ? 'block' : 'none';\n",
              "    })();\n",
              "  </script>\n",
              "</div>\n",
              "\n",
              "    </div>\n",
              "  </div>\n"
            ],
            "application/vnd.google.colaboratory.intrinsic+json": {
              "type": "dataframe",
              "variable_name": "data",
              "summary": "{\n  \"name\": \"data\",\n  \"rows\": 1599,\n  \"fields\": [\n    {\n      \"column\": \"fixed acidity\",\n      \"properties\": {\n        \"dtype\": \"number\",\n        \"std\": 1.7410963181277006,\n        \"min\": 4.6,\n        \"max\": 15.9,\n        \"num_unique_values\": 96,\n        \"samples\": [\n          5.3,\n          12.7,\n          12.6\n        ],\n        \"semantic_type\": \"\",\n        \"description\": \"\"\n      }\n    },\n    {\n      \"column\": \"volatile acidity\",\n      \"properties\": {\n        \"dtype\": \"number\",\n        \"std\": 0.17905970415353498,\n        \"min\": 0.12,\n        \"max\": 1.58,\n        \"num_unique_values\": 143,\n        \"samples\": [\n          1.025,\n          0.4,\n          0.87\n        ],\n        \"semantic_type\": \"\",\n        \"description\": \"\"\n      }\n    },\n    {\n      \"column\": \"citric acid\",\n      \"properties\": {\n        \"dtype\": \"number\",\n        \"std\": 0.19480113740531785,\n        \"min\": 0.0,\n        \"max\": 1.0,\n        \"num_unique_values\": 80,\n        \"samples\": [\n          0.37,\n          0.0,\n          0.09\n        ],\n        \"semantic_type\": \"\",\n        \"description\": \"\"\n      }\n    },\n    {\n      \"column\": \"residual sugar\",\n      \"properties\": {\n        \"dtype\": \"number\",\n        \"std\": 1.4099280595072805,\n        \"min\": 0.9,\n        \"max\": 15.5,\n        \"num_unique_values\": 91,\n        \"samples\": [\n          11.0,\n          3.0,\n          15.5\n        ],\n        \"semantic_type\": \"\",\n        \"description\": \"\"\n      }\n    },\n    {\n      \"column\": \"chlorides\",\n      \"properties\": {\n        \"dtype\": \"number\",\n        \"std\": 0.047065302010090154,\n        \"min\": 0.012,\n        \"max\": 0.611,\n        \"num_unique_values\": 153,\n        \"samples\": [\n          0.096,\n          0.343,\n          0.159\n        ],\n        \"semantic_type\": \"\",\n        \"description\": \"\"\n      }\n    },\n    {\n      \"column\": \"free sulfur dioxide\",\n      \"properties\": {\n        \"dtype\": \"number\",\n        \"std\": 10.46015696980973,\n        \"min\": 1.0,\n        \"max\": 72.0,\n        \"num_unique_values\": 60,\n        \"samples\": [\n          11.0,\n          9.0,\n          32.0\n        ],\n        \"semantic_type\": \"\",\n        \"description\": \"\"\n      }\n    },\n    {\n      \"column\": \"total sulfur dioxide\",\n      \"properties\": {\n        \"dtype\": \"number\",\n        \"std\": 32.89532447829901,\n        \"min\": 6.0,\n        \"max\": 289.0,\n        \"num_unique_values\": 144,\n        \"samples\": [\n          68.0,\n          35.0,\n          101.0\n        ],\n        \"semantic_type\": \"\",\n        \"description\": \"\"\n      }\n    },\n    {\n      \"column\": \"density\",\n      \"properties\": {\n        \"dtype\": \"number\",\n        \"std\": 0.0018873339538425559,\n        \"min\": 0.99007,\n        \"max\": 1.00369,\n        \"num_unique_values\": 436,\n        \"samples\": [\n          0.99974,\n          1.0001,\n          0.99471\n        ],\n        \"semantic_type\": \"\",\n        \"description\": \"\"\n      }\n    },\n    {\n      \"column\": \"pH\",\n      \"properties\": {\n        \"dtype\": \"number\",\n        \"std\": 0.15438646490354266,\n        \"min\": 2.74,\n        \"max\": 4.01,\n        \"num_unique_values\": 89,\n        \"samples\": [\n          3.07,\n          3.0,\n          3.15\n        ],\n        \"semantic_type\": \"\",\n        \"description\": \"\"\n      }\n    },\n    {\n      \"column\": \"sulphates\",\n      \"properties\": {\n        \"dtype\": \"number\",\n        \"std\": 0.16950697959010977,\n        \"min\": 0.33,\n        \"max\": 2.0,\n        \"num_unique_values\": 96,\n        \"samples\": [\n          1.07,\n          1.04,\n          1.18\n        ],\n        \"semantic_type\": \"\",\n        \"description\": \"\"\n      }\n    },\n    {\n      \"column\": \"alcohol\",\n      \"properties\": {\n        \"dtype\": \"number\",\n        \"std\": 1.0656675818473926,\n        \"min\": 8.4,\n        \"max\": 14.9,\n        \"num_unique_values\": 65,\n        \"samples\": [\n          8.5,\n          9.95,\n          9.4\n        ],\n        \"semantic_type\": \"\",\n        \"description\": \"\"\n      }\n    },\n    {\n      \"column\": \"quality\",\n      \"properties\": {\n        \"dtype\": \"number\",\n        \"std\": 0,\n        \"min\": 3,\n        \"max\": 8,\n        \"num_unique_values\": 6,\n        \"samples\": [\n          5,\n          6,\n          3\n        ],\n        \"semantic_type\": \"\",\n        \"description\": \"\"\n      }\n    }\n  ]\n}"
            }
          },
          "metadata": {},
          "execution_count": 29
        }
      ],
      "source": [
        "import random\n",
        "import pandas as pd\n",
        "\n",
        "## IMPORT THE DATASEST\n",
        "\n",
        "# edit the file path as necessary\n",
        "data = pd.read_csv(\"winequality-red.csv\", sep=';')\n",
        "data.head()"
      ]
    },
    {
      "cell_type": "markdown",
      "source": [
        "**B)** Split the dataset into train, validation, and test sets."
      ],
      "metadata": {
        "id": "LpO0mLzIW31S"
      }
    },
    {
      "cell_type": "code",
      "source": [
        "import sklearn\n",
        "from sklearn.model_selection import train_test_split\n",
        "from sklearn.preprocessing import StandardScaler"
      ],
      "metadata": {
        "id": "QswDRSdsUhCM"
      },
      "execution_count": null,
      "outputs": []
    },
    {
      "cell_type": "code",
      "source": [
        "# splitting and preprocessing\n",
        "\n",
        "X = data.drop(\"quality\", axis=1)\n",
        "y = data['quality']\n",
        "\n",
        "X = X.to_numpy()\n",
        "y = y.to_numpy()\n",
        "\n",
        "# 20% test, 10% validation, 70% training\n",
        "X_train, X_test, y_train, y_test = train_test_split(X, y, test_size=0.2, random_state=1)\n",
        "\n",
        "# use train_test_split again to split the training and validation\n",
        "# we use 0.125 here because X_train contains only 80% of the total data, and we want our validation set to have 10% of the total data\n",
        "X_train, X_val, y_train, y_val = train_test_split(X_train, y_train, test_size=0.125, random_state=1)\n",
        "\n",
        "# scale the train data and use the mean and variance from train to scale test and val\n",
        "scaler = StandardScaler()\n",
        "X_train = scaler.fit_transform(X_train)\n",
        "X_test = scaler.transform(X_test)\n",
        "X_val = scaler.transform(X_val)"
      ],
      "metadata": {
        "id": "b96IieYIVgvK"
      },
      "execution_count": null,
      "outputs": []
    },
    {
      "cell_type": "markdown",
      "source": [
        "**C)** Write a program for training a simple linear regression model with sum-of-squares error function\n",
        "using the closed-form solution (do not use a built-in function)."
      ],
      "metadata": {
        "id": "aaf-htZDXqWX"
      }
    },
    {
      "cell_type": "code",
      "source": [
        "import numpy as np"
      ],
      "metadata": {
        "id": "PVOOM5yrXxTj"
      },
      "execution_count": null,
      "outputs": []
    },
    {
      "cell_type": "markdown",
      "source": [
        "Sum of squared errors function is\n",
        "\n",
        "$E(w) = ||y - Xw||$\n",
        "\n",
        "So the minimizer of this is simply\n",
        "\n",
        "$w* = ({X}^TX)^{-1}X^{T}y$"
      ],
      "metadata": {
        "id": "4BsmjR6GehsI"
      }
    },
    {
      "cell_type": "code",
      "source": [
        "class LR:\n",
        "  \"\"\"\n",
        "  Class for linear regression with the direct (least squares) solution.\n",
        "  \"\"\"\n",
        "  def __init__(self, learn_bias=True):\n",
        "\n",
        "    \"\"\"\n",
        "    Initializer for the LR class.\n",
        "\n",
        "    inputs: learn_bias set to True by default, accounts for a bias term\n",
        "    returns: None\n",
        "    \"\"\"\n",
        "\n",
        "    self.w = None #when we initialize we don't know what w is\n",
        "    self.learn_bias = learn_bias\n",
        "\n",
        "  def fit(self, X, y):\n",
        "    \"\"\"\n",
        "    Function to fit the training dataset to the target variable.\n",
        "\n",
        "    inputs: X (training dataset, numpy array), Y (training output, numpy array)\n",
        "    returns: None\n",
        "    \"\"\"\n",
        "    if self.learn_bias:\n",
        "      # append a column of ones to X\n",
        "      n = X.shape[0]\n",
        "      ones = np.ones((n,1))\n",
        "      X_mat = np.hstack([ones, X])\n",
        "    else:\n",
        "      X_mat = X\n",
        "    # minimizer of w!!!\n",
        "    self.w = np.linalg.inv(X_mat.T @ X_mat) @ X_mat.T @ y\n",
        "    print(\"This is w: \", self.w)\n",
        "\n",
        "  def predict(self, X_test):\n",
        "    \"\"\"\n",
        "    Function to predict y values based on x-input.\n",
        "\n",
        "    inputs: X value(s), numpy array\n",
        "    returns: Y value(s), numpy array\n",
        "    \"\"\"\n",
        "    if self.learn_bias:\n",
        "      n = X_test.shape[0]\n",
        "      ones = np.ones((n,1))\n",
        "      X_test_2 = np.hstack([ones, X_test])\n",
        "    else:\n",
        "      X_test_2 = X_test\n",
        "    if self.w is None:\n",
        "      raise ValueError('Fit the LR model before predicting!')\n",
        "    return X_test_2 @ self.w\n",
        "\n",
        "# make an instance of the class\n",
        "model = LR()"
      ],
      "metadata": {
        "id": "nspj7QkqhCwJ"
      },
      "execution_count": null,
      "outputs": []
    },
    {
      "cell_type": "code",
      "source": [
        "# fit the LR model on the X_train dataset\n",
        "model.fit(X_train, y_train)\n",
        "\n",
        "# obtain the y_predicted values on the training dataset for part d...\n",
        "y_pred_train = model.predict(X_train)\n"
      ],
      "metadata": {
        "colab": {
          "base_uri": "https://localhost:8080/"
        },
        "id": "9hKIYgxniX4C",
        "outputId": "02051cc6-7209-4f40-b2e3-0696fba44973"
      },
      "execution_count": null,
      "outputs": [
        {
          "output_type": "stream",
          "name": "stdout",
          "text": [
            "This is w:  [ 5.66309205  0.05322485 -0.20528932 -0.04514505  0.01124158 -0.07120217\n",
            "  0.03803718 -0.10626105 -0.02948196 -0.05596372  0.14360067  0.31149501]\n"
          ]
        }
      ]
    },
    {
      "cell_type": "markdown",
      "source": [
        "**D)** For the train data, generate a plot of the actual target values vs predicted target values. How do\n",
        "we interpret this plot?"
      ],
      "metadata": {
        "id": "iDGH5JYIgRXu"
      }
    },
    {
      "cell_type": "code",
      "source": [
        "import matplotlib.pyplot as plt\n",
        "\n",
        "plt.scatter(y_train, y_pred_train)\n",
        "plt.xlim(2,9)\n",
        "plt.xlabel(\"Actual\")\n",
        "plt.ylim(2,9)\n",
        "plt.ylabel(\"Predicted\")"
      ],
      "metadata": {
        "colab": {
          "base_uri": "https://localhost:8080/",
          "height": 473
        },
        "id": "EWortCLriiWO",
        "outputId": "5e06e547-8415-49a3-c477-022d1e89fa0f"
      },
      "execution_count": null,
      "outputs": [
        {
          "output_type": "execute_result",
          "data": {
            "text/plain": [
              "Text(0, 0.5, 'Predicted')"
            ]
          },
          "metadata": {},
          "execution_count": 45
        },
        {
          "output_type": "display_data",
          "data": {
            "text/plain": [
              "<Figure size 640x480 with 1 Axes>"
            ],
            "image/png": "[encoded data removed]"
          },
          "metadata": {}
        }
      ]
    },
    {
      "cell_type": "markdown",
      "source": [
        "**Interpretation**: The x-axis represents the actual value and the y-axis represents the value that was predicted for quality of wine based on the sample information. If the model perfectly predicted the values, then this plot would have a perfect 45 degree slope running through it (y = x). Though the slope is not 45 degrees, the general trend is still positive and somewhat linear, meaning the job wasn't too bad.\n",
        "\n",
        "We can see that the model never predicted correctly when the actual target value was 3, 4, and 8 (all of the predictions in these values lie outside the value).\n",
        "\n",
        "However the model did better when predicting if the wine quality was 5, 6, or 7, as the predictions actually lay within the correct range."
      ],
      "metadata": {
        "id": "LFDo31Jvj7Pe"
      }
    },
    {
      "cell_type": "markdown",
      "source": [
        "**E)** Report the root-mean-square on the train and test sets."
      ],
      "metadata": {
        "id": "yWLqt9s9p-_X"
      }
    },
    {
      "cell_type": "code",
      "source": [
        "def RMS(y_pred, y_act):\n",
        "  \"\"\"\n",
        "  Function that reports on the root-mean-square error for two vectors.\n",
        "\n",
        "  input: predicted values, actual values (numpy arrays, 1d)\n",
        "  returns: RMSE on the predicted vs actual values\n",
        "  \"\"\"\n",
        "  if y_pred.shape != y_act.shape:\n",
        "    return \"Ensure predicted and actual values are equal in number. \"\n",
        "  if (len(y_pred.shape) != 1):\n",
        "    return \"Ensure both arrays are of shape (n_samples,) .\"\n",
        "  return np.sqrt(np.sum((y_act - y_pred) ** 2) / y_pred.shape[0])\n",
        "\n",
        "\n",
        "y_pred_train = model.predict(X_train)\n",
        "y_pred_test = model.predict(X_test)\n",
        "\n",
        "print(\"RMS on train: \", RMS(y_train, y_pred_train))\n",
        "print(\"RMS on test: \", RMS(y_test, y_pred_test))"
      ],
      "metadata": {
        "colab": {
          "base_uri": "https://localhost:8080/"
        },
        "id": "rbcgtbz9oEHK",
        "outputId": "85f69de9-c7ba-4af5-df77-daccdc3d393a"
      },
      "execution_count": null,
      "outputs": [
        {
          "output_type": "stream",
          "name": "stdout",
          "text": [
            "RMS on train:  0.6536871700485255\n",
            "RMS on test:  0.6171293739458968\n"
          ]
        }
      ]
    },
    {
      "cell_type": "markdown",
      "source": [
        "**F)** Implement the least-mean-squares (LMS) algorithm for linear regression with random initialization of w(0) and stepsize(s) of your choice (you can experiment with that)."
      ],
      "metadata": {
        "id": "jusHmk4VsJyB"
      }
    },
    {
      "cell_type": "code",
      "source": [
        "# parameters to play around with\n",
        "MAX_ITER = 1000 # number of iterations\n",
        "STEP = 0.0001 # stepsize\n",
        "\n",
        "\n",
        "y_mat = y_train\n",
        "\n",
        "# add ones to X matrix for bias term\n",
        "n = X_train.shape[0]\n",
        "ones = np.ones((n,1))\n",
        "X_mat = np.hstack([ones, X_train])\n",
        "\n",
        "# initialize w randomly\n",
        "amount = X_mat.shape[1]\n",
        "w = [random.choice(range(-10, 10)) for _ in range(amount)]\n",
        "w = np.array(w)\n",
        "print(\"Initial w: \\n\", w)\n",
        "\n",
        "\n",
        "# run LMS\n",
        "n = 0\n",
        "n_samples = X_mat.shape[0]\n",
        "while n < (MAX_ITER):\n",
        "  # shuffle the rows at every iteration\n",
        "  # this way we are doing sampling with replacement\n",
        "  indices = np.random.permutation(n_samples)\n",
        "\n",
        "  for i in indices:\n",
        "    y_n = y_mat[i]\n",
        "    w_t = np.transpose(w)\n",
        "    x_n = X_mat[i]\n",
        "    w = w + STEP * (y_n - w_t @ x_n) * x_n\n",
        "    i = i+1\n",
        "  n += 1\n",
        "\n",
        "np.set_printoptions(suppress=True)\n",
        "print(\"Final w after LMS: \\n\", w)\n"
      ],
      "metadata": {
        "colab": {
          "base_uri": "https://localhost:8080/"
        },
        "id": "23KfO-O_oj0O",
        "outputId": "d1be57fc-385c-4170-bda3-fa8c120ec1ed"
      },
      "execution_count": null,
      "outputs": [
        {
          "output_type": "stream",
          "name": "stdout",
          "text": [
            "Initial w: \n",
            " [ -9   0   8   9   4  -7   6   7  -3   3  -4 -10]\n",
            "Final w after LMS: \n",
            " [ 5.66311101  0.05851112 -0.20554708 -0.04552549  0.01284029 -0.07077619\n",
            "  0.03795817 -0.10532282 -0.03341695 -0.05363099  0.14378931  0.30880993]\n"
          ]
        }
      ]
    },
    {
      "cell_type": "markdown",
      "source": [
        "**G)** Report the root-mean-square on the train and test sets."
      ],
      "metadata": {
        "id": "Kfa3lD3v88cT"
      }
    },
    {
      "cell_type": "code",
      "source": [
        "# predict using the train values\n",
        "\n",
        "# add the ones and then multiply by w that's it\n",
        "\n",
        "y_pred_train = X_mat @ w\n",
        "n = X_test.shape[0]\n",
        "ones = np.ones((n,1))\n",
        "X_mat_test = np.hstack([ones, X_test])\n",
        "\n",
        "y_pred_test = X_mat_test @ w\n",
        "\n",
        "print(\"RMS on train: \", RMS(y_train, y_pred_train))\n",
        "print(\"RMS on test: \", RMS(y_test, y_pred_test))"
      ],
      "metadata": {
        "colab": {
          "base_uri": "https://localhost:8080/"
        },
        "id": "AzqXyHkl86uT",
        "outputId": "e8816bd9-855f-4bd3-c92c-c7f44df58185"
      },
      "execution_count": null,
      "outputs": [
        {
          "output_type": "stream",
          "name": "stdout",
          "text": [
            "RMS on train:  0.6536912887970229\n",
            "RMS on test:  0.6172236802807788\n"
          ]
        }
      ]
    }
  ]
}
